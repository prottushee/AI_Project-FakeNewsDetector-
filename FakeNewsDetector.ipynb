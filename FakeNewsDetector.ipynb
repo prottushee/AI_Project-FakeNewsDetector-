{
  "nbformat": 4,
  "nbformat_minor": 0,
  "metadata": {
    "colab": {
      "provenance": [],
      "gpuType": "T4",
      "mount_file_id": "1PzaelCpShb61Y6j714R99o8tyhTVrK8v",
      "authorship_tag": "ABX9TyOn/x0Wk6jrvXqSL4sggJsn",
      "include_colab_link": true
    },
    "kernelspec": {
      "name": "python3",
      "display_name": "Python 3"
    },
    "language_info": {
      "name": "python"
    },
    "accelerator": "GPU"
  },
  "cells": [
    {
      "cell_type": "markdown",
      "metadata": {
        "id": "view-in-github",
        "colab_type": "text"
      },
      "source": [
        "<a href=\"https://colab.research.google.com/github/prottushee/AI_Project-FakeNewsDetector-/blob/main/FakeNewsDetector.ipynb\" target=\"_parent\"><img src=\"https://colab.research.google.com/assets/colab-badge.svg\" alt=\"Open In Colab\"/></a>"
      ]
    },
    {
      "cell_type": "code",
      "execution_count": null,
      "metadata": {
        "id": "AjDFKaH5w0Oc"
      },
      "outputs": [],
      "source": []
    },
    {
      "cell_type": "markdown",
      "source": [],
      "metadata": {
        "id": "aKoEy9hY9M-N"
      }
    },
    {
      "cell_type": "code",
      "execution_count": null,
      "metadata": {
        "id": "-TGKxMXV8LU5"
      },
      "outputs": [],
      "source": [
        "import pandas as pd\n",
        "import tensorflow as tf\n",
        "from tensorflow.keras.preprocessing.text import Tokenizer\n",
        "from tensorflow.keras.preprocessing.sequence import pad_sequences\n",
        "from tensorflow.keras.models import Sequential\n",
        "from tensorflow.keras.layers import Embedding, LSTM, Dense, Dropout, Concatenate"
      ]
    },
    {
      "cell_type": "code",
      "source": [],
      "metadata": {
        "id": "KyFLp-5TxPz-"
      },
      "execution_count": null,
      "outputs": []
    },
    {
      "cell_type": "code",
      "source": [
        "real_news_data = pd.read_csv('/content/drive/MyDrive/True.csv')\n",
        "fake_news_data = pd.read_csv('/content/drive/MyDrive/Fake.csv')"
      ],
      "metadata": {
        "id": "UVRSjr5J5V2I"
      },
      "execution_count": null,
      "outputs": []
    },
    {
      "cell_type": "code",
      "source": [
        "# Add a new column 'is_real' to indicate real or fake news\n",
        "real_news_data['is_real'] = 1\n",
        "fake_news_data['is_real'] = 0\n"
      ],
      "metadata": {
        "id": "oTgqVcBj7yRC"
      },
      "execution_count": null,
      "outputs": []
    },
    {
      "cell_type": "markdown",
      "source": [],
      "metadata": {
        "id": "WcIrIztX5VnN"
      }
    },
    {
      "cell_type": "markdown",
      "source": [],
      "metadata": {
        "id": "UKwxS5rCxWwm"
      }
    },
    {
      "cell_type": "code",
      "source": [
        "data = pd.concat([real_news_data, fake_news_data],ignore_index=True )\n",
        "\n"
      ],
      "metadata": {
        "id": "jT8GiQ3q71dI"
      },
      "execution_count": null,
      "outputs": []
    },
    {
      "cell_type": "code",
      "source": [
        "text_columns = ['title', 'text', 'date']\n",
        "combined_text = data[text_columns].apply(lambda row: ' '.join(row.values.astype(str)), axis=1)\n"
      ],
      "metadata": {
        "id": "IvzQzCxX7_BA"
      },
      "execution_count": null,
      "outputs": []
    },
    {
      "cell_type": "code",
      "source": [
        "# Tokenize and pad the text data\n",
        "tokenizer = Tokenizer()\n",
        "tokenizer.fit_on_texts(combined_text)\n",
        "sequences = tokenizer.texts_to_sequences(combined_text)\n",
        "padded_sequences = pad_sequences(sequences, maxlen=100, padding='post', truncating='post')\n"
      ],
      "metadata": {
        "id": "TWRVQDJw8Aq5"
      },
      "execution_count": null,
      "outputs": []
    },
    {
      "cell_type": "code",
      "source": [
        "# Prepare the target variable\n",
        "targets = data['is_real'].astype(int)  # Assuming the target column is named 'is_real' (0 for fake, 1 for real)\n"
      ],
      "metadata": {
        "id": "lGCUaHX38BC9"
      },
      "execution_count": null,
      "outputs": []
    },
    {
      "cell_type": "code",
      "source": [],
      "metadata": {
        "id": "QV5htyxN81y0"
      },
      "execution_count": null,
      "outputs": []
    },
    {
      "cell_type": "code",
      "execution_count": null,
      "metadata": {
        "id": "Aq02cnfc6luW"
      },
      "outputs": [],
      "source": [
        "from sklearn.model_selection import train_test_split\n",
        "X_train, X_test, y_train, y_test = train_test_split(padded_sequences, targets, test_size=0.2, random_state=42)\n",
        "# y_train"
      ]
    },
    {
      "cell_type": "code",
      "source": [
        "vocab_size = len(tokenizer.word_index) + 1\n",
        "embedding_dim = 100\n",
        "max_length = 100\n",
        "\n",
        "model = Sequential([\n",
        "    Embedding(vocab_size, embedding_dim, input_length=max_length),\n",
        "    LSTM(64, return_sequences=True),\n",
        "    LSTM(64),\n",
        "    Dropout(0.2),\n",
        "    Dense(64, activation='relu'),\n",
        "    Dropout(0.2),\n",
        "    Dense(1, activation='sigmoid')\n",
        "])\n"
      ],
      "metadata": {
        "id": "1qslEMaB8RGb"
      },
      "execution_count": null,
      "outputs": []
    },
    {
      "cell_type": "code",
      "source": [
        "model.compile(loss='binary_crossentropy', optimizer='adam', metrics=['accuracy'])\n",
        "\n"
      ],
      "metadata": {
        "id": "RgS7afVj8Vqn"
      },
      "execution_count": null,
      "outputs": []
    },
    {
      "cell_type": "code",
      "source": [
        "model.fit(X_train, y_train, epochs=5, batch_size=32, validation_data=(X_test, y_test))\n"
      ],
      "metadata": {
        "colab": {
          "base_uri": "https://localhost:8080/"
        },
        "id": "vg8dvM0F8dMr",
        "outputId": "6c242223-e606-4af0-cafe-a7a156a607e0"
      },
      "execution_count": null,
      "outputs": [
        {
          "output_type": "stream",
          "name": "stdout",
          "text": [
            "Epoch 1/5\n",
            "1123/1123 [==============================] - 63s 50ms/step - loss: 0.2675 - accuracy: 0.8934 - val_loss: 0.1105 - val_accuracy: 0.9763\n",
            "Epoch 2/5\n",
            "1123/1123 [==============================] - 22s 20ms/step - loss: 0.0834 - accuracy: 0.9808 - val_loss: 0.3839 - val_accuracy: 0.8415\n",
            "Epoch 3/5\n",
            "1123/1123 [==============================] - 21s 19ms/step - loss: 0.1348 - accuracy: 0.9669 - val_loss: 0.1570 - val_accuracy: 0.9639\n",
            "Epoch 4/5\n",
            "1123/1123 [==============================] - 20s 18ms/step - loss: 0.1196 - accuracy: 0.9616 - val_loss: 0.0593 - val_accuracy: 0.9826\n",
            "Epoch 5/5\n",
            "1123/1123 [==============================] - 22s 19ms/step - loss: 0.0192 - accuracy: 0.9953 - val_loss: 0.0245 - val_accuracy: 0.9944\n"
          ]
        },
        {
          "output_type": "execute_result",
          "data": {
            "text/plain": [
              "<keras.src.callbacks.History at 0x78e8a9c37460>"
            ]
          },
          "metadata": {},
          "execution_count": 32
        }
      ]
    },
    {
      "cell_type": "code",
      "source": [
        "test_loss, test_acc = model.evaluate(X_test, y_test)\n",
        "print(f'Test Accuracy: {test_acc}')"
      ],
      "metadata": {
        "colab": {
          "base_uri": "https://localhost:8080/"
        },
        "id": "t55sZF2u8j9M",
        "outputId": "9ed0de10-0cbc-4e3a-9da3-1cdf62c9800a"
      },
      "execution_count": null,
      "outputs": [
        {
          "output_type": "stream",
          "name": "stdout",
          "text": [
            "281/281 [==============================] - 2s 6ms/step - loss: 0.0245 - accuracy: 0.9944\n",
            "Test Accuracy: 0.9944320917129517\n"
          ]
        }
      ]
    }
  ]
}